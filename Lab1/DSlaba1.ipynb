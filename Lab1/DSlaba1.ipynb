{
 "cells": [
  {
   "cell_type": "code",
   "execution_count": 1,
   "outputs": [],
   "source": [
    "import pandas as pnds\n",
    "import seaborn as sbrn\n",
    "import matplotlib.pyplot as pplt"
   ],
   "metadata": {
    "collapsed": false,
    "ExecuteTime": {
     "end_time": "2023-12-05T19:02:31.517941Z",
     "start_time": "2023-12-05T19:02:31.514549Z"
    }
   },
   "id": "1873929a080ff276"
  },
  {
   "cell_type": "code",
   "execution_count": 2,
   "outputs": [],
   "source": [
    "data_set = pnds.concat([pnds.read_csv(f'dds_ch2_nyt/nyt{i}.csv') for i in range(1, 32)], ignore_index=True)"
   ],
   "metadata": {
    "collapsed": false,
    "ExecuteTime": {
     "end_time": "2023-12-05T19:02:34.972946Z",
     "start_time": "2023-12-05T19:02:31.519916Z"
    }
   },
   "id": "bce43e6d97383729"
  },
  {
   "cell_type": "code",
   "execution_count": 3,
   "outputs": [
    {
     "data": {
      "text/plain": "          Age  Gender  Impressions  Clicks  Signed_In\n0          36       0            3       0          1\n1          73       1            3       0          1\n2          30       0            3       0          1\n3          49       1            3       0          1\n4          47       1           11       0          1\n...       ...     ...          ...     ...        ...\n14905860   41       1            4       0          1\n14905861    0       0            5       0          0\n14905862   22       1            3       0          1\n14905863   59       0            5       1          1\n14905864   29       1            4       0          1\n\n[14905865 rows x 5 columns]",
      "text/html": "<div>\n<style scoped>\n    .dataframe tbody tr th:only-of-type {\n        vertical-align: middle;\n    }\n\n    .dataframe tbody tr th {\n        vertical-align: top;\n    }\n\n    .dataframe thead th {\n        text-align: right;\n    }\n</style>\n<table border=\"1\" class=\"dataframe\">\n  <thead>\n    <tr style=\"text-align: right;\">\n      <th></th>\n      <th>Age</th>\n      <th>Gender</th>\n      <th>Impressions</th>\n      <th>Clicks</th>\n      <th>Signed_In</th>\n    </tr>\n  </thead>\n  <tbody>\n    <tr>\n      <th>0</th>\n      <td>36</td>\n      <td>0</td>\n      <td>3</td>\n      <td>0</td>\n      <td>1</td>\n    </tr>\n    <tr>\n      <th>1</th>\n      <td>73</td>\n      <td>1</td>\n      <td>3</td>\n      <td>0</td>\n      <td>1</td>\n    </tr>\n    <tr>\n      <th>2</th>\n      <td>30</td>\n      <td>0</td>\n      <td>3</td>\n      <td>0</td>\n      <td>1</td>\n    </tr>\n    <tr>\n      <th>3</th>\n      <td>49</td>\n      <td>1</td>\n      <td>3</td>\n      <td>0</td>\n      <td>1</td>\n    </tr>\n    <tr>\n      <th>4</th>\n      <td>47</td>\n      <td>1</td>\n      <td>11</td>\n      <td>0</td>\n      <td>1</td>\n    </tr>\n    <tr>\n      <th>...</th>\n      <td>...</td>\n      <td>...</td>\n      <td>...</td>\n      <td>...</td>\n      <td>...</td>\n    </tr>\n    <tr>\n      <th>14905860</th>\n      <td>41</td>\n      <td>1</td>\n      <td>4</td>\n      <td>0</td>\n      <td>1</td>\n    </tr>\n    <tr>\n      <th>14905861</th>\n      <td>0</td>\n      <td>0</td>\n      <td>5</td>\n      <td>0</td>\n      <td>0</td>\n    </tr>\n    <tr>\n      <th>14905862</th>\n      <td>22</td>\n      <td>1</td>\n      <td>3</td>\n      <td>0</td>\n      <td>1</td>\n    </tr>\n    <tr>\n      <th>14905863</th>\n      <td>59</td>\n      <td>0</td>\n      <td>5</td>\n      <td>1</td>\n      <td>1</td>\n    </tr>\n    <tr>\n      <th>14905864</th>\n      <td>29</td>\n      <td>1</td>\n      <td>4</td>\n      <td>0</td>\n      <td>1</td>\n    </tr>\n  </tbody>\n</table>\n<p>14905865 rows × 5 columns</p>\n</div>"
     },
     "execution_count": 3,
     "metadata": {},
     "output_type": "execute_result"
    }
   ],
   "source": [
    "data_set"
   ],
   "metadata": {
    "collapsed": false,
    "ExecuteTime": {
     "end_time": "2023-12-05T19:02:34.989761Z",
     "start_time": "2023-12-05T19:02:34.980773Z"
    }
   },
   "id": "e6a6c2f34e5efdeb"
  },
  {
   "cell_type": "markdown",
   "source": [
    "Створимо нову змінну age_group, яка агрегує користувачів як <18, 18–24, 25–34, 35–44, 45–54, 55–64 та 65+."
   ],
   "metadata": {
    "collapsed": false
   },
   "id": "ec087e3f9714660e"
  },
  {
   "cell_type": "code",
   "execution_count": 4,
   "outputs": [],
   "source": [
    "bins = [0, 18, 25, 35, 45, 55, 65, data_set['Age'].max()]\n",
    "labels = ['<18', '18-24', '25-34', '35-44', '45-54', '55-64', '65+']\n",
    "data_set['age_group'] = pnds.cut(data_set['Age'], bins=bins, labels=labels)"
   ],
   "metadata": {
    "collapsed": false,
    "ExecuteTime": {
     "end_time": "2023-12-05T19:02:35.515052Z",
     "start_time": "2023-12-05T19:02:34.990110Z"
    }
   },
   "id": "c0a15f1b2d1c4ac5"
  },
  {
   "cell_type": "markdown",
   "source": [
    "Знайдемо CTR для кожного користувача"
   ],
   "metadata": {
    "collapsed": false
   },
   "id": "fd32ba1ad76ee59"
  },
  {
   "cell_type": "code",
   "execution_count": 5,
   "outputs": [
    {
     "data": {
      "text/plain": "          Age  Gender  Impressions  Clicks  Signed_In age_group  CTR\n0          36       0            3       0          1     35-44  0.0\n1          73       1            3       0          1       65+  0.0\n2          30       0            3       0          1     25-34  0.0\n3          49       1            3       0          1     45-54  0.0\n4          47       1           11       0          1     45-54  0.0\n...       ...     ...          ...     ...        ...       ...  ...\n14905860   41       1            4       0          1     35-44  0.0\n14905861    0       0            5       0          0       NaN  0.0\n14905862   22       1            3       0          1     18-24  0.0\n14905863   59       0            5       1          1     55-64  0.2\n14905864   29       1            4       0          1     25-34  0.0\n\n[14905865 rows x 7 columns]",
      "text/html": "<div>\n<style scoped>\n    .dataframe tbody tr th:only-of-type {\n        vertical-align: middle;\n    }\n\n    .dataframe tbody tr th {\n        vertical-align: top;\n    }\n\n    .dataframe thead th {\n        text-align: right;\n    }\n</style>\n<table border=\"1\" class=\"dataframe\">\n  <thead>\n    <tr style=\"text-align: right;\">\n      <th></th>\n      <th>Age</th>\n      <th>Gender</th>\n      <th>Impressions</th>\n      <th>Clicks</th>\n      <th>Signed_In</th>\n      <th>age_group</th>\n      <th>CTR</th>\n    </tr>\n  </thead>\n  <tbody>\n    <tr>\n      <th>0</th>\n      <td>36</td>\n      <td>0</td>\n      <td>3</td>\n      <td>0</td>\n      <td>1</td>\n      <td>35-44</td>\n      <td>0.0</td>\n    </tr>\n    <tr>\n      <th>1</th>\n      <td>73</td>\n      <td>1</td>\n      <td>3</td>\n      <td>0</td>\n      <td>1</td>\n      <td>65+</td>\n      <td>0.0</td>\n    </tr>\n    <tr>\n      <th>2</th>\n      <td>30</td>\n      <td>0</td>\n      <td>3</td>\n      <td>0</td>\n      <td>1</td>\n      <td>25-34</td>\n      <td>0.0</td>\n    </tr>\n    <tr>\n      <th>3</th>\n      <td>49</td>\n      <td>1</td>\n      <td>3</td>\n      <td>0</td>\n      <td>1</td>\n      <td>45-54</td>\n      <td>0.0</td>\n    </tr>\n    <tr>\n      <th>4</th>\n      <td>47</td>\n      <td>1</td>\n      <td>11</td>\n      <td>0</td>\n      <td>1</td>\n      <td>45-54</td>\n      <td>0.0</td>\n    </tr>\n    <tr>\n      <th>...</th>\n      <td>...</td>\n      <td>...</td>\n      <td>...</td>\n      <td>...</td>\n      <td>...</td>\n      <td>...</td>\n      <td>...</td>\n    </tr>\n    <tr>\n      <th>14905860</th>\n      <td>41</td>\n      <td>1</td>\n      <td>4</td>\n      <td>0</td>\n      <td>1</td>\n      <td>35-44</td>\n      <td>0.0</td>\n    </tr>\n    <tr>\n      <th>14905861</th>\n      <td>0</td>\n      <td>0</td>\n      <td>5</td>\n      <td>0</td>\n      <td>0</td>\n      <td>NaN</td>\n      <td>0.0</td>\n    </tr>\n    <tr>\n      <th>14905862</th>\n      <td>22</td>\n      <td>1</td>\n      <td>3</td>\n      <td>0</td>\n      <td>1</td>\n      <td>18-24</td>\n      <td>0.0</td>\n    </tr>\n    <tr>\n      <th>14905863</th>\n      <td>59</td>\n      <td>0</td>\n      <td>5</td>\n      <td>1</td>\n      <td>1</td>\n      <td>55-64</td>\n      <td>0.2</td>\n    </tr>\n    <tr>\n      <th>14905864</th>\n      <td>29</td>\n      <td>1</td>\n      <td>4</td>\n      <td>0</td>\n      <td>1</td>\n      <td>25-34</td>\n      <td>0.0</td>\n    </tr>\n  </tbody>\n</table>\n<p>14905865 rows × 7 columns</p>\n</div>"
     },
     "execution_count": 5,
     "metadata": {},
     "output_type": "execute_result"
    }
   ],
   "source": [
    "data_set['CTR'] = data_set['Clicks'] / data_set['Impressions']\n",
    "data_set"
   ],
   "metadata": {
    "collapsed": false,
    "ExecuteTime": {
     "end_time": "2023-12-05T19:02:35.615102Z",
     "start_time": "2023-12-05T19:02:35.498509Z"
    }
   },
   "id": "66f8a2377735ebe9"
  },
  {
   "cell_type": "markdown",
   "source": [
    "Зафіксуємо на діаграмі кількість показів та показник переходів"
   ],
   "metadata": {
    "collapsed": false
   },
   "id": "8c3c70055853e2f7"
  },
  {
   "cell_type": "code",
   "execution_count": 6,
   "outputs": [
    {
     "data": {
      "text/plain": "<Figure size 1500x500 with 1 Axes>",
      "image/png": "[encoded data removed]"
     },
     "metadata": {},
     "output_type": "display_data"
    }
   ],
   "source": [
    "pplt.figure(figsize=(15, 5))\n",
    "sbrn.barplot(x='age_group', y='CTR', data=data_set)\n",
    "pplt.title('CTR за віком')\n",
    "pplt.xlabel('Вік')\n",
    "pplt.ylabel('Кількість показів та показник переходів')\n",
    "\n",
    "pplt.show()"
   ],
   "metadata": {
    "collapsed": false,
    "ExecuteTime": {
     "end_time": "2023-12-05T19:05:48.816149Z",
     "start_time": "2023-12-05T19:02:35.608333Z"
    }
   },
   "id": "53cc5726c8a68915"
  },
  {
   "cell_type": "markdown",
   "source": [
    "Можемо зробити висновок що користувачі молодше 18 та старше 65 частіше переходять за рекламою відносно до кількості показів"
   ],
   "metadata": {
    "collapsed": false
   },
   "id": "9aca8b996db3208a"
  },
  {
   "cell_type": "markdown",
   "source": [
    "Порівняємо кількість показів та показник переходів для авторизованих та неавторизованих користувачів"
   ],
   "metadata": {
    "collapsed": false
   },
   "id": "5270e1bbeffdd14e"
  },
  {
   "cell_type": "code",
   "execution_count": 7,
   "outputs": [
    {
     "data": {
      "text/plain": "<Figure size 1500x500 with 1 Axes>",
      "image/png": "[encoded data removed]"
     },
     "metadata": {},
     "output_type": "display_data"
    }
   ],
   "source": [
    "authorized = data_set[data_set['Signed_In'] == 1]\n",
    "non_authorized = data_set[data_set['Signed_In'] == 0]\n",
    "\n",
    "pplt.figure(figsize=(15, 5))\n",
    "sbrn.barplot(x=['Authorized', 'Not authorized'], y=[authorized['CTR'].mean(), non_authorized['CTR'].mean()])\n",
    "pplt.title('CTR для авторизованих та не авторизованих користувачів')\n",
    "pplt.xlabel('Авторизація')\n",
    "pplt.ylabel('Кількість показів та показник переходів')\n",
    "\n",
    "pplt.show()"
   ],
   "metadata": {
    "collapsed": false,
    "ExecuteTime": {
     "end_time": "2023-12-05T19:05:49.655817Z",
     "start_time": "2023-12-05T19:05:48.813823Z"
    }
   },
   "id": "fb4876ed3efd7758"
  },
  {
   "cell_type": "markdown",
   "source": [
    "Можемо зробити висновок, що неавторизовані користувачі частіше переходять по посиланням"
   ],
   "metadata": {
    "collapsed": false
   },
   "id": "b09e9f7a09652ac8"
  },
  {
   "cell_type": "markdown",
   "source": [
    "Знайдемо середнє значення переходів за посиланням за віковими категоріями"
   ],
   "metadata": {
    "collapsed": false
   },
   "id": "d86dcea64b86dc92"
  },
  {
   "cell_type": "code",
   "execution_count": 8,
   "outputs": [
    {
     "name": "stderr",
     "output_type": "stream",
     "text": [
      "/var/folders/6_/lp2cbf691qg7_cwv63m3d5rm0000gn/T/ipykernel_98602/4119740305.py:1: FutureWarning: The default of observed=False is deprecated and will be changed to True in a future version of pandas. Pass observed=False to retain current behavior or observed=True to adopt the future default and silence this warning.\n",
      "  avg_clicks_by_age_group = data_set.groupby('age_group')['Clicks'].mean()\n"
     ]
    },
    {
     "data": {
      "text/plain": "age_group\n<18      0.133168\n18-24    0.049990\n25-34    0.050101\n35-44    0.050035\n45-54    0.052157\n55-64    0.101410\n65+      0.150174\nName: Clicks, dtype: float64"
     },
     "execution_count": 8,
     "metadata": {},
     "output_type": "execute_result"
    }
   ],
   "source": [
    "avg_clicks_by_age_group = data_set.groupby('age_group')['Clicks'].mean()\n",
    "avg_clicks_by_age_group"
   ],
   "metadata": {
    "collapsed": false,
    "ExecuteTime": {
     "end_time": "2023-12-05T19:05:49.817994Z",
     "start_time": "2023-12-05T19:05:49.658821Z"
    }
   },
   "id": "c6284c297dbd3b71"
  },
  {
   "cell_type": "markdown",
   "source": [
    "Знайдемо середнє значення кількості показів за віковими групами"
   ],
   "metadata": {
    "collapsed": false
   },
   "id": "94595d069fdeb579"
  },
  {
   "cell_type": "code",
   "execution_count": 9,
   "outputs": [
    {
     "name": "stderr",
     "output_type": "stream",
     "text": [
      "/var/folders/6_/lp2cbf691qg7_cwv63m3d5rm0000gn/T/ipykernel_98602/827934986.py:1: FutureWarning: The default of observed=False is deprecated and will be changed to True in a future version of pandas. Pass observed=False to retain current behavior or observed=True to adopt the future default and silence this warning.\n",
      "  avg_impressions_by_age_group = data_set.groupby('age_group')['Impressions'].mean()\n"
     ]
    },
    {
     "data": {
      "text/plain": "age_group\n<18      5.006339\n18-24    4.999208\n25-34    4.996663\n35-44    4.997689\n45-54    4.997300\n55-64    4.997511\n65+      5.002381\nName: Impressions, dtype: float64"
     },
     "execution_count": 9,
     "metadata": {},
     "output_type": "execute_result"
    }
   ],
   "source": [
    "avg_impressions_by_age_group = data_set.groupby('age_group')['Impressions'].mean()\n",
    "avg_impressions_by_age_group"
   ],
   "metadata": {
    "collapsed": false,
    "ExecuteTime": {
     "end_time": "2023-12-05T19:05:49.975315Z",
     "start_time": "2023-12-05T19:05:49.813619Z"
    }
   },
   "id": "f3c9cfb1f152f0e9"
  },
  {
   "cell_type": "markdown",
   "source": [
    "Знайдемо медіану за переходами за посиланням залежно від вікової групи"
   ],
   "metadata": {
    "collapsed": false
   },
   "id": "59a3ce0a88173a0e"
  },
  {
   "cell_type": "code",
   "execution_count": 10,
   "outputs": [
    {
     "name": "stderr",
     "output_type": "stream",
     "text": [
      "/var/folders/6_/lp2cbf691qg7_cwv63m3d5rm0000gn/T/ipykernel_98602/126107936.py:1: FutureWarning: The default of observed=False is deprecated and will be changed to True in a future version of pandas. Pass observed=False to retain current behavior or observed=True to adopt the future default and silence this warning.\n",
      "  median_clicks_by_age_group = data_set.groupby('age_group')['Clicks'].median()\n"
     ]
    },
    {
     "data": {
      "text/plain": "age_group\n<18      0.0\n18-24    0.0\n25-34    0.0\n35-44    0.0\n45-54    0.0\n55-64    0.0\n65+      0.0\nName: Clicks, dtype: float64"
     },
     "execution_count": 10,
     "metadata": {},
     "output_type": "execute_result"
    }
   ],
   "source": [
    "median_clicks_by_age_group = data_set.groupby('age_group')['Clicks'].median()\n",
    "median_clicks_by_age_group"
   ],
   "metadata": {
    "collapsed": false,
    "ExecuteTime": {
     "end_time": "2023-12-05T19:05:50.253493Z",
     "start_time": "2023-12-05T19:05:49.980515Z"
    }
   },
   "id": "d8b6044c529c44dc"
  },
  {
   "cell_type": "markdown",
   "source": [
    "Знайдемо медіану за показами реклами залежно від вікової групи"
   ],
   "metadata": {
    "collapsed": false
   },
   "id": "49a9acd3bccdc6b9"
  },
  {
   "cell_type": "code",
   "execution_count": 11,
   "outputs": [
    {
     "name": "stderr",
     "output_type": "stream",
     "text": [
      "/var/folders/6_/lp2cbf691qg7_cwv63m3d5rm0000gn/T/ipykernel_98602/3270396849.py:1: FutureWarning: The default of observed=False is deprecated and will be changed to True in a future version of pandas. Pass observed=False to retain current behavior or observed=True to adopt the future default and silence this warning.\n",
      "  median_impressions_by_age_group = data_set.groupby('age_group')['Impressions'].median()\n"
     ]
    },
    {
     "data": {
      "text/plain": "age_group\n<18      5.0\n18-24    5.0\n25-34    5.0\n35-44    5.0\n45-54    5.0\n55-64    5.0\n65+      5.0\nName: Impressions, dtype: float64"
     },
     "execution_count": 11,
     "metadata": {},
     "output_type": "execute_result"
    }
   ],
   "source": [
    "median_impressions_by_age_group = data_set.groupby('age_group')['Impressions'].median()\n",
    "median_impressions_by_age_group"
   ],
   "metadata": {
    "collapsed": false,
    "ExecuteTime": {
     "end_time": "2023-12-05T19:05:50.574248Z",
     "start_time": "2023-12-05T19:05:50.250731Z"
    }
   },
   "id": "c2262a8169068d6a"
  },
  {
   "cell_type": "markdown",
   "source": [
    "Знайдемо значення дисперсії за переходами за посиланням залежно від вікової групи"
   ],
   "metadata": {
    "collapsed": false
   },
   "id": "6f5adeb4878d8c23"
  },
  {
   "cell_type": "code",
   "execution_count": 12,
   "outputs": [
    {
     "name": "stderr",
     "output_type": "stream",
     "text": [
      "/var/folders/6_/lp2cbf691qg7_cwv63m3d5rm0000gn/T/ipykernel_98602/3346164272.py:1: FutureWarning: The default of observed=False is deprecated and will be changed to True in a future version of pandas. Pass observed=False to retain current behavior or observed=True to adopt the future default and silence this warning.\n",
      "  var_clicks_by_age_group = data_set.groupby('age_group')['Clicks'].var()\n"
     ]
    },
    {
     "data": {
      "text/plain": "age_group\n<18      0.134620\n18-24    0.050120\n25-34    0.050079\n35-44    0.049971\n45-54    0.052357\n55-64    0.101456\n65+      0.149828\nName: Clicks, dtype: float64"
     },
     "execution_count": 12,
     "metadata": {},
     "output_type": "execute_result"
    }
   ],
   "source": [
    "var_clicks_by_age_group = data_set.groupby('age_group')['Clicks'].var()\n",
    "var_clicks_by_age_group"
   ],
   "metadata": {
    "collapsed": false,
    "ExecuteTime": {
     "end_time": "2023-12-05T19:05:50.750292Z",
     "start_time": "2023-12-05T19:05:50.571541Z"
    }
   },
   "id": "cd78e57f518bd81f"
  },
  {
   "cell_type": "markdown",
   "source": [
    "Знайдемо значення дисперсії за показами реклами залежно від вікової групи"
   ],
   "metadata": {
    "collapsed": false
   },
   "id": "e8bfc0551e0c644b"
  },
  {
   "cell_type": "code",
   "execution_count": 13,
   "outputs": [
    {
     "name": "stderr",
     "output_type": "stream",
     "text": [
      "/var/folders/6_/lp2cbf691qg7_cwv63m3d5rm0000gn/T/ipykernel_98602/1404977324.py:1: FutureWarning: The default of observed=False is deprecated and will be changed to True in a future version of pandas. Pass observed=False to retain current behavior or observed=True to adopt the future default and silence this warning.\n",
      "  var_impressions_by_age_group = data_set.groupby('age_group')['Impressions'].var()\n"
     ]
    },
    {
     "data": {
      "text/plain": "age_group\n<18      5.019357\n18-24    5.003437\n25-34    4.997274\n35-44    4.991887\n45-54    4.992517\n55-64    4.995185\n65+      4.983012\nName: Impressions, dtype: float64"
     },
     "execution_count": 13,
     "metadata": {},
     "output_type": "execute_result"
    }
   ],
   "source": [
    "var_impressions_by_age_group = data_set.groupby('age_group')['Impressions'].var()\n",
    "var_impressions_by_age_group"
   ],
   "metadata": {
    "collapsed": false,
    "ExecuteTime": {
     "end_time": "2023-12-05T19:05:50.914582Z",
     "start_time": "2023-12-05T19:05:50.747578Z"
    }
   },
   "id": "23da26793d055a3e"
  },
  {
   "cell_type": "markdown",
   "source": [
    "Значення дисперсії подібні до середніх значень, можемо зробити що датафрейм має невелику варіативність"
   ],
   "metadata": {
    "collapsed": false
   },
   "id": "89fe1d7455a36e70"
  },
  {
   "cell_type": "markdown",
   "source": [
    "Додамо метрики до результуючого датафрейму"
   ],
   "metadata": {
    "collapsed": false
   },
   "id": "cadec6d9420c16ad"
  },
  {
   "cell_type": "code",
   "execution_count": 14,
   "outputs": [
    {
     "data": {
      "text/plain": "           Avg_Clicks  Avg_Impressions  Median_Clicks  Median_Impressions  \\\nage_group                                                                   \n<18          0.133168         5.006339            0.0                 5.0   \n18-24        0.049990         4.999208            0.0                 5.0   \n25-34        0.050101         4.996663            0.0                 5.0   \n35-44        0.050035         4.997689            0.0                 5.0   \n45-54        0.052157         4.997300            0.0                 5.0   \n55-64        0.101410         4.997511            0.0                 5.0   \n65+          0.150174         5.002381            0.0                 5.0   \n\n           Var_Clicks  Var_Impressions  \nage_group                               \n<18          0.134620         5.019357  \n18-24        0.050120         5.003437  \n25-34        0.050079         4.997274  \n35-44        0.049971         4.991887  \n45-54        0.052357         4.992517  \n55-64        0.101456         4.995185  \n65+          0.149828         4.983012  ",
      "text/html": "<div>\n<style scoped>\n    .dataframe tbody tr th:only-of-type {\n        vertical-align: middle;\n    }\n\n    .dataframe tbody tr th {\n        vertical-align: top;\n    }\n\n    .dataframe thead th {\n        text-align: right;\n    }\n</style>\n<table border=\"1\" class=\"dataframe\">\n  <thead>\n    <tr style=\"text-align: right;\">\n      <th></th>\n      <th>Avg_Clicks</th>\n      <th>Avg_Impressions</th>\n      <th>Median_Clicks</th>\n      <th>Median_Impressions</th>\n      <th>Var_Clicks</th>\n      <th>Var_Impressions</th>\n    </tr>\n    <tr>\n      <th>age_group</th>\n      <th></th>\n      <th></th>\n      <th></th>\n      <th></th>\n      <th></th>\n      <th></th>\n    </tr>\n  </thead>\n  <tbody>\n    <tr>\n      <th>&lt;18</th>\n      <td>0.133168</td>\n      <td>5.006339</td>\n      <td>0.0</td>\n      <td>5.0</td>\n      <td>0.134620</td>\n      <td>5.019357</td>\n    </tr>\n    <tr>\n      <th>18-24</th>\n      <td>0.049990</td>\n      <td>4.999208</td>\n      <td>0.0</td>\n      <td>5.0</td>\n      <td>0.050120</td>\n      <td>5.003437</td>\n    </tr>\n    <tr>\n      <th>25-34</th>\n      <td>0.050101</td>\n      <td>4.996663</td>\n      <td>0.0</td>\n      <td>5.0</td>\n      <td>0.050079</td>\n      <td>4.997274</td>\n    </tr>\n    <tr>\n      <th>35-44</th>\n      <td>0.050035</td>\n      <td>4.997689</td>\n      <td>0.0</td>\n      <td>5.0</td>\n      <td>0.049971</td>\n      <td>4.991887</td>\n    </tr>\n    <tr>\n      <th>45-54</th>\n      <td>0.052157</td>\n      <td>4.997300</td>\n      <td>0.0</td>\n      <td>5.0</td>\n      <td>0.052357</td>\n      <td>4.992517</td>\n    </tr>\n    <tr>\n      <th>55-64</th>\n      <td>0.101410</td>\n      <td>4.997511</td>\n      <td>0.0</td>\n      <td>5.0</td>\n      <td>0.101456</td>\n      <td>4.995185</td>\n    </tr>\n    <tr>\n      <th>65+</th>\n      <td>0.150174</td>\n      <td>5.002381</td>\n      <td>0.0</td>\n      <td>5.0</td>\n      <td>0.149828</td>\n      <td>4.983012</td>\n    </tr>\n  </tbody>\n</table>\n</div>"
     },
     "execution_count": 14,
     "metadata": {},
     "output_type": "execute_result"
    }
   ],
   "source": [
    "result_data_frame = pnds.concat([avg_clicks_by_age_group, avg_impressions_by_age_group, median_clicks_by_age_group, median_impressions_by_age_group, var_clicks_by_age_group, var_impressions_by_age_group], axis=1)\n",
    "result_data_frame.columns = ['Avg_Clicks', 'Avg_Impressions', 'Median_Clicks', 'Median_Impressions', 'Var_Clicks', 'Var_Impressions']\n",
    "\n",
    "result_data_frame"
   ],
   "metadata": {
    "collapsed": false,
    "ExecuteTime": {
     "end_time": "2023-12-05T19:05:50.930019Z",
     "start_time": "2023-12-05T19:05:50.914768Z"
    }
   },
   "id": "3d0d06bb8ae07f20"
  },
  {
   "cell_type": "markdown",
   "source": [
    "Висновок\n",
    "\n",
    "Результати показують, що молодші 18 років та старші 65 років мають вищий CTR, і кількість показів реклами рівномірно розподілена між віковими групами.\n",
    "\n",
    "Аналіз також вказує, що реклама привертає увагу неавторизованих користувачів частіше, що може свідчити про неефективність політики щодо користувачів. Розрахунки показали стабільність показників в різних вікових групах, зокрема, на кожного авторизованого користувача припадає приблизно 5 показів. Всі дані включено в датафрейм для зручності аналізу."
   ],
   "metadata": {
    "collapsed": false
   },
   "id": "829c3b7829d0530f"
  }
 ],
 "metadata": {
  "kernelspec": {
   "display_name": "Python 3",
   "language": "python",
   "name": "python3"
  },
  "language_info": {
   "codemirror_mode": {
    "name": "ipython",
    "version": 2
   },
   "file_extension": ".py",
   "mimetype": "text/x-python",
   "name": "python",
   "nbconvert_exporter": "python",
   "pygments_lexer": "ipython2",
   "version": "2.7.6"
  }
 },
 "nbformat": 4,
 "nbformat_minor": 5
}
